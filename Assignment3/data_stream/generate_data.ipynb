{
 "cells": [
  {
   "cell_type": "code",
   "execution_count": 36,
   "id": "000cf7f1",
   "metadata": {},
   "outputs": [],
   "source": [
    "import threading\n",
    "from pathlib import Path\n",
    "\n",
    "# Helper thread to avoid the Spark StreamingContext from blocking Jupyter\n",
    "        \n",
    "class StreamingThread(threading.Thread):\n",
    "    def __init__(self, ssc):\n",
    "        super().__init__()\n",
    "        self.ssc = ssc\n",
    "    def run(self):\n",
    "        self.ssc.start()\n",
    "        self.ssc.awaitTermination()\n",
    "    def stop(self):\n",
    "        print('----- Stopping... this may take a few seconds -----')\n",
    "        self.ssc.stop(stopSparkContext=False, stopGraceFully=True)"
   ]
  },
  {
   "cell_type": "code",
   "execution_count": 37,
   "id": "25d661ed",
   "metadata": {},
   "outputs": [],
   "source": [
    "from pyspark.streaming import StreamingContext"
   ]
  },
  {
   "cell_type": "code",
   "execution_count": 38,
   "id": "03942831",
   "metadata": {},
   "outputs": [
    {
     "data": {
      "text/html": [
       "\n",
       "        <div>\n",
       "            <p><b>SparkContext</b></p>\n",
       "\n",
       "            <p><a href=\"http://Lunky-Asus-Laptop:4045\">Spark UI</a></p>\n",
       "\n",
       "            <dl>\n",
       "              <dt>Version</dt>\n",
       "                <dd><code>v3.3.2</code></dd>\n",
       "              <dt>Master</dt>\n",
       "                <dd><code>local[*]</code></dd>\n",
       "              <dt>AppName</dt>\n",
       "                <dd><code>PySparkShell</code></dd>\n",
       "            </dl>\n",
       "        </div>\n",
       "        "
      ],
      "text/plain": [
       "<SparkContext master=local[*] appName=PySparkShell>"
      ]
     },
     "execution_count": 38,
     "metadata": {},
     "output_type": "execute_result"
    }
   ],
   "source": [
    "sc  # at this point Spark is such a blackbox to me. I'll just leave this here"
   ]
  },
  {
   "cell_type": "code",
   "execution_count": 39,
   "id": "4dae32df",
   "metadata": {},
   "outputs": [],
   "source": [
    "ssc = StreamingContext(sc, 10)\n",
    "lines = ssc.socketTextStream(\"seppe.net\", 7778)"
   ]
  },
  {
   "cell_type": "code",
   "execution_count": 40,
   "id": "f30ebed2",
   "metadata": {},
   "outputs": [],
   "source": [
    "# Change here if you would like to generate more data\n",
    "path = Path()\n",
    "path = path.joinpath(\"data_workaround\", \"data\")\n",
    "lines.repartition(1).saveAsTextFiles(path.absolute().as_uri())  # absolute path, as_uri is needed"
   ]
  },
  {
   "cell_type": "code",
   "execution_count": 41,
   "id": "634ad123",
   "metadata": {},
   "outputs": [
    {
     "name": "stdout",
     "output_type": "stream",
     "text": [
      "-------------------------------------------\n",
      "Time: 2023-05-06 16:51:40\n",
      "-------------------------------------------\n",
      "{\"review_id\": \"137880693\", \"app_id\": \"2086140\", \"review_text\": \"I have already seen enough!\\nThis game is beyond bad in multiple aspects.\\n- The performance is so terrible when you try turning bloom/shader effects on or even at higher settings  - it will melt your GPU while still looking very simple XDDDDD. \\n- Upgrades are unrecognizeable and some do the same and just have a different name (means you have to read through every upgrade on every level up and do that probably for the whole run and beyond).\\n- Hit feedback when receiving damage is basicaly non-exsistent. Occacionaly you look over to your healthbar to the right border of your screen and be like - oh when did my health get soo low and how??!!.\\n\\n2 Bucks is not much money asked and there is content but its NOT worth your time at version 20 right now!\\nIt has potential but also a loong way ahead of itself and i doubt it will ever reach its full potential because fundamentaly (technicaly) this game is not good. Good luck.\", \"label\": 0}\n",
      "{\"review_id\": \"137881266\", \"app_id\": \"2246110\", \"review_text\": \"At several moments, this game will have you questioning whether you need to change your approach or if you're just unlucky that a few misdrawn pixels screwed you over. The other times, it will just leave you stumped.\", \"label\": 1}\n",
      "{\"review_id\": \"137880853\", \"app_id\": \"1277920\", \"review_text\": \"Classes are unbalanced,\\nGame is absolutely filled with bugs.\\nPrice for membership is ridiculous.\\nDiscord Help forum is filled with topics and no support what so ever.\\nBasically an accept quests and go find out what anything means type game. no guidance.\", \"label\": 0}\n",
      "\n",
      "-------------------------------------------\n",
      "Time: 2023-05-06 16:51:50\n",
      "-------------------------------------------\n",
      "{\"review_id\": \"137881041\", \"app_id\": \"1294810\", \"review_text\": \"Jesus Christ...\", \"label\": 0}\n",
      "{\"review_id\": \"137878553\", \"app_id\": \"1294810\", \"review_text\": \"Hear me out...\", \"label\": 1}\n",
      "{\"review_id\": \"137878208\", \"app_id\": \"1294810\", \"review_text\": \"The game is just a mess. I mean honestly,  the world is just empty. Even the main missions are absolute bollocks. Just not a fun experience at all. And all that with such a pricetag is just insulting to the player. And im not going to start on all the bugs, absolute stupid gameplay mechanics, the situation that you need an active internet connection for a single player game. I gave the game 3 hours. Thats time i will never get back in my life. \\nJust dont buy this mess of a game. There are definetly better options for you to spend ypur money on.\", \"label\": 0}\n",
      "\n",
      "-------------------------------------------\n",
      "Time: 2023-05-06 16:52:00\n",
      "-------------------------------------------\n",
      "{\"review_id\": \"137878506\", \"app_id\": \"1155330\", \"review_text\": \"I am a huge fan of turn-based tactical games and am always on the lookout for more titles of this kind, and Showgunners definitely scratched that itch. The game's closer to Chimera Squad than X-Com proper - the cast of characters is small with each one having specific weapon type and unique abilities, combat encounteres are fast but numerous, there is no strategic meta-game on top, instead in between fights you do some light exploration and encounter some environmental puzzles. While surviving the fights on its own usually isn't too difficult, many arenas provide some optional objectives or complications that make things more challenging and interesting. I honestly think that thanks to being so straightforward, Showgunners may be a good introduction to the genre for someone who didn't play turn-based tactical games before. And to top it off, soundtrack is absolutely on point.\", \"label\": 1}\n",
      "{\"review_id\": \"137881705\", \"app_id\": \"1669000\", \"review_text\": \"The game is fun. love the fact you can customize your ruler and have them as a hero that evolves alongside your people. the combat is fun and has a satisfying tactical element to it. the campaign side is also not as much of a drag as other 4x games that implement similar mechanics. like grievances from humankind as an example.\\n\\nThat being said. the naval combat is bare bones. The multiplayer is very slow as no one can do anything on the campaign map as long as someone is in combat. this is a huge problem in the middle to late game when fights are bigger and take longer. if these things get fixed, then it would be one of the best 4x games of all time in my opinion.\", \"label\": 1}\n",
      "{\"review_id\": \"137881680\", \"app_id\": \"1669000\", \"review_text\": \"great game\", \"label\": 1}\n",
      "{\"review_id\": \"137881642\", \"app_id\": \"1669000\", \"review_text\": \"I finally decided to take the plunge because I've always been interested in strategy/tactical/4X games but mainly because I'm done with the modern-day gaming industry; specifically the triple AAA industry. I've had it with microtransactions being pushed down my throat and content being locked behind a pay wall that should just be in the base game from the start. \\n\\nOver the last few years, my passion for gaming was dying because I thought it was due to me growing up and responsibilities being the main focus in my life now. Every game I tried from the big developers are either broken on release, filled with microtransactions, or a boring and repetitive gameplay experience rehashed in a next gen game (I'm looking at you Ubisoft). I really wanted to rekindle my love for gaming again and I struck gold with AoW 4!\\n\\nSuper satisfied with this game! It's my first 4X experience and it's definitely overwhelming for me. However, I've never had so much fun playing a game again. I love the fantasy setting, the xcom-style combat is engaging, and micro-managing my cities & armies is something I thought would be tedious at first but is actually an enjoyable gameplay loop. Can't wait to sink more hours into this game and get lost in the lore and universe.\\n\\n\\n\\n\", \"label\": 1}\n",
      "\n",
      "-------------------------------------------\n",
      "Time: 2023-05-06 16:52:10\n",
      "-------------------------------------------\n",
      "\n",
      "-------------------------------------------\n",
      "Time: 2023-05-06 16:52:20\n",
      "-------------------------------------------\n",
      "\n"
     ]
    }
   ],
   "source": [
    "ssc_t = StreamingThread(ssc)\n",
    "ssc_t.start()"
   ]
  },
  {
   "cell_type": "code",
   "execution_count": 42,
   "id": "638bbced",
   "metadata": {},
   "outputs": [
    {
     "name": "stdout",
     "output_type": "stream",
     "text": [
      "----- Stopping... this may take a few seconds -----\n",
      "-------------------------------------------\n",
      "Time: 2023-05-06 16:52:30\n",
      "-------------------------------------------\n",
      "\n",
      "-------------------------------------------\n",
      "Time: 2023-05-06 16:52:40\n",
      "-------------------------------------------\n",
      "\n"
     ]
    }
   ],
   "source": [
    "# stop thread\n",
    "ssc_t.stop()"
   ]
  },
  {
   "cell_type": "code",
   "execution_count": 217,
   "id": "1d39266f",
   "metadata": {},
   "outputs": [
    {
     "data": {
      "text/plain": [
       "['C:\\\\Users\\\\Lunky\\\\Desktop\\\\spark\\\\data_workaround\\\\data-1683384700000\\\\part-00000',\n",
       " 'C:\\\\Users\\\\Lunky\\\\Desktop\\\\spark\\\\data_workaround\\\\data-1683384710000\\\\part-00000',\n",
       " 'C:\\\\Users\\\\Lunky\\\\Desktop\\\\spark\\\\data_workaround\\\\data-1683384720000\\\\part-00000',\n",
       " 'C:\\\\Users\\\\Lunky\\\\Desktop\\\\spark\\\\data_workaround\\\\data-1683384730000\\\\part-00000',\n",
       " 'C:\\\\Users\\\\Lunky\\\\Desktop\\\\spark\\\\data_workaround\\\\data-1683384740000\\\\part-00000',\n",
       " 'C:\\\\Users\\\\Lunky\\\\Desktop\\\\spark\\\\data_workaround\\\\data-1683384750000\\\\part-00000',\n",
       " 'C:\\\\Users\\\\Lunky\\\\Desktop\\\\spark\\\\data_workaround\\\\data-1683384760000\\\\part-00000']"
      ]
     },
     "execution_count": 217,
     "metadata": {},
     "output_type": "execute_result"
    }
   ],
   "source": [
    "def get_data_paths():\n",
    "    path = Path()\n",
    "\n",
    "    saved_file_generator = path.joinpath(\"data_workaround\").rglob(\"**/part-*\")\n",
    "    paths = [str(path.absolute()) for path in saved_file_generator]\n",
    "    \n",
    "    return paths\n",
    "get_data_paths()  # nothing is hard coded, so don't worry about C:\\\\Lunky..."
   ]
  },
  {
   "cell_type": "code",
   "execution_count": 213,
   "id": "3bffbdbd",
   "metadata": {},
   "outputs": [],
   "source": [
    "def turn_data_into_df():\n",
    "    \"\"\"\n",
    "    When you run letsgo-win.bat, Seppe have setup variables \"spark\" and \"sc\".\n",
    "    Variable \"spark\" is of the type spark: pyspark.sql.session.SparkSession\n",
    "    \n",
    "    Returns an object of the type spark DataFrame\n",
    "    \"\"\"\n",
    "    path = Path()\n",
    "\n",
    "    saved_file_generator = path.joinpath(\"data_workaround\").rglob(\"**/part-*\")\n",
    "    paths = [str(path.absolute()) for path in saved_file_generator]\n",
    "    \n",
    "    return spark.read.json(paths)"
   ]
  },
  {
   "cell_type": "code",
   "execution_count": 216,
   "id": "7b942592",
   "metadata": {},
   "outputs": [
    {
     "name": "stdout",
     "output_type": "stream",
     "text": [
      "+-------+-----+---------+--------------------+\n",
      "| app_id|label|review_id|         review_text|\n",
      "+-------+-----+---------+--------------------+\n",
      "|1155330|    1|137878506|I am a huge fan o...|\n",
      "|1669000|    1|137881705|The game is fun. ...|\n",
      "|1669000|    1|137881680|          great game|\n",
      "|1669000|    1|137881642|I finally decided...|\n",
      "|2086140|    0|137880693|I have already se...|\n",
      "|2246110|    1|137881266|At several moment...|\n",
      "|1277920|    0|137880853|Classes are unbal...|\n",
      "|1294810|    0|137881041|     Jesus Christ...|\n",
      "|1294810|    1|137878553|      Hear me out...|\n",
      "|1294810|    0|137878208|The game is just ...|\n",
      "+-------+-----+---------+--------------------+\n",
      "\n"
     ]
    }
   ],
   "source": [
    "df = turn_data_into_df()\n",
    "df.show()"
   ]
  }
 ],
 "metadata": {
  "kernelspec": {
   "display_name": "Python 3",
   "language": "python",
   "name": "python3"
  },
  "language_info": {
   "codemirror_mode": {
    "name": "ipython",
    "version": 3
   },
   "file_extension": ".py",
   "mimetype": "text/x-python",
   "name": "python",
   "nbconvert_exporter": "python",
   "pygments_lexer": "ipython3",
   "version": "3.7.4"
  }
 },
 "nbformat": 4,
 "nbformat_minor": 5
}
