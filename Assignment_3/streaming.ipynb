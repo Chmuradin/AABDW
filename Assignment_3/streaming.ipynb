{
 "cells": [
  {
   "cell_type": "code",
   "execution_count": 1,
   "id": "f2d93021",
   "metadata": {},
   "outputs": [],
   "source": [
    "import threading\n",
    "\n",
    "# Helper thread to avoid the Spark StreamingContext from blocking Jupyter\n",
    "        \n",
    "class StreamingThread(threading.Thread):\n",
    "    def __init__(self, ssc):\n",
    "        super().__init__()\n",
    "        self.ssc = ssc\n",
    "    def run(self):\n",
    "        self.ssc.start()\n",
    "        self.ssc.awaitTermination()\n",
    "    def stop(self):\n",
    "        print('----- Stopping... this may take a few seconds -----')\n",
    "        self.ssc.stop(stopSparkContext=False, stopGraceFully=True)"
   ]
  },
  {
   "cell_type": "code",
   "execution_count": 2,
   "id": "b9ced905",
   "metadata": {},
   "outputs": [
    {
     "data": {
      "text/html": [
       "\n",
       "        <div>\n",
       "            <p><b>SparkContext</b></p>\n",
       "\n",
       "            <p><a href=\"http://192.168.0.220:4040\">Spark UI</a></p>\n",
       "\n",
       "            <dl>\n",
       "              <dt>Version</dt>\n",
       "                <dd><code>v3.3.2</code></dd>\n",
       "              <dt>Master</dt>\n",
       "                <dd><code>local[2]</code></dd>\n",
       "              <dt>AppName</dt>\n",
       "                <dd><code>PySparkShell</code></dd>\n",
       "            </dl>\n",
       "        </div>\n",
       "        "
      ],
      "text/plain": [
       "<SparkContext master=local[2] appName=PySparkShell>"
      ]
     },
     "execution_count": 2,
     "metadata": {},
     "output_type": "execute_result"
    }
   ],
   "source": [
    "sc"
   ]
  },
  {
   "cell_type": "code",
   "execution_count": null,
   "outputs": [],
   "source": [
    "spark"
   ],
   "metadata": {
    "collapsed": false
   }
  },
  {
   "cell_type": "code",
   "execution_count": 3,
   "id": "2bd7cdd2",
   "metadata": {},
   "outputs": [],
   "source": [
    "from pyspark.streaming import StreamingContext\n",
    "from pyspark.sql import Row\n",
    "from pyspark.sql.functions import udf, struct, array, col, lit\n",
    "from pyspark.sql.types import StringType\n",
    "from pyspark.ml.pipeline import PipelineModel"
   ]
  },
  {
   "cell_type": "code",
   "execution_count": 4,
   "id": "64f6d351",
   "metadata": {},
   "outputs": [],
   "source": [
    "globals()['models_loaded'] = False\n",
    "globals()['my_model'] = None\n",
    "\n",
    "def process(time, rdd):\n",
    "    if rdd.isEmpty():\n",
    "        return\n",
    "    \n",
    "    print(\"========= %s =========\" % str(time))\n",
    "    \n",
    "    # Convert to data frame\n",
    "    df = spark.read.json(rdd)\n",
    "    # df.show()\n",
    "    \n",
    "    # Load in the model if not yet loaded:\n",
    "    if not globals()['models_loaded']:\n",
    "        # globals()['my_model'] = PipelineModel.load('./lr1.model')\n",
    "        globals()['my_model'] = PipelineModel.load('./lr2.model')\n",
    "        globals()['models_loaded'] = True\n",
    "        \n",
    "    # And then predict using the loaded model (uncomment below):\n",
    "    \n",
    "    df_result = globals()['my_model'].transform(df)\n",
    "    df_result.drop(\"words\", \"cv\", \"features\", \"rawPrediction\", \"probability\").show()"
   ]
  },
  {
   "cell_type": "code",
   "execution_count": 5,
   "id": "40fbbaf9",
   "metadata": {},
   "outputs": [],
   "source": [
    "ssc = StreamingContext(sc, 10)"
   ]
  },
  {
   "cell_type": "code",
   "execution_count": 6,
   "id": "f8a48606",
   "metadata": {},
   "outputs": [],
   "source": [
    "lines = ssc.socketTextStream(\"seppe.net\", 7778)\n",
    "lines.foreachRDD(process)"
   ]
  },
  {
   "cell_type": "code",
   "execution_count": 7,
   "id": "88fc7012",
   "metadata": {},
   "outputs": [],
   "source": [
    "ssc_t = StreamingThread(ssc)\n",
    "ssc_t.start()"
   ]
  },
  {
   "cell_type": "code",
   "execution_count": 8,
   "id": "e39e211a",
   "metadata": {},
   "outputs": [
    {
     "ename": "NameError",
     "evalue": "name 'scc_t' is not defined",
     "output_type": "error",
     "traceback": [
      "\u001B[0;31m---------------------------------------------------------------------------\u001B[0m",
      "\u001B[0;31mNameError\u001B[0m                                 Traceback (most recent call last)",
      "Input \u001B[0;32mIn [8]\u001B[0m, in \u001B[0;36m<cell line: 1>\u001B[0;34m()\u001B[0m\n\u001B[0;32m----> 1\u001B[0m \u001B[43mscc_t\u001B[49m\u001B[38;5;241m.\u001B[39mstop()\n",
      "\u001B[0;31mNameError\u001B[0m: name 'scc_t' is not defined"
     ]
    },
    {
     "name": "stderr",
     "output_type": "stream",
     "text": [
      "\r",
      "[Stage 0:>                                                          (0 + 1) / 1]\r"
     ]
    },
    {
     "name": "stdout",
     "output_type": "stream",
     "text": [
      "23/05/13 10:46:45 WARN RandomBlockReplicationPolicy: Expecting 1 replicas with only 0 peer/s.\n",
      "23/05/13 10:46:45 WARN BlockManager: Block input-0-1683967604800 replicated to only 0 peer(s) instead of 1 peers\n",
      "23/05/13 10:46:50 WARN RandomBlockReplicationPolicy: Expecting 1 replicas with only 0 peer/s.\n",
      "23/05/13 10:46:50 WARN BlockManager: Block input-0-1683967609800 replicated to only 0 peer(s) instead of 1 peers\n"
     ]
    },
    {
     "name": "stderr",
     "output_type": "stream",
     "text": [
      "\r",
      "[Stage 0:>                  (0 + 1) / 1][Stage 1:>                  (0 + 1) / 1]\r"
     ]
    },
    {
     "name": "stdout",
     "output_type": "stream",
     "text": [
      "23/05/13 10:46:51 WARN RandomBlockReplicationPolicy: Expecting 1 replicas with only 0 peer/s.\n",
      "23/05/13 10:46:51 WARN BlockManager: Block input-0-1683967610800 replicated to only 0 peer(s) instead of 1 peers\n"
     ]
    },
    {
     "name": "stderr",
     "output_type": "stream",
     "text": [
      "\r",
      "                                                                                \r"
     ]
    },
    {
     "name": "stdout",
     "output_type": "stream",
     "text": [
      "========= 2023-05-13 10:46:50 =========\n"
     ]
    },
    {
     "name": "stderr",
     "output_type": "stream",
     "text": [
      "\r",
      "[Stage 0:>                                                          (0 + 1) / 1]\r"
     ]
    },
    {
     "name": "stdout",
     "output_type": "stream",
     "text": [
      "23/05/13 10:46:54 WARN RandomBlockReplicationPolicy: Expecting 1 replicas with only 0 peer/s.\n",
      "23/05/13 10:46:54 WARN BlockManager: Block input-0-1683967613800 replicated to only 0 peer(s) instead of 1 peers\n"
     ]
    },
    {
     "name": "stderr",
     "output_type": "stream",
     "text": [
      "\r",
      "                                                                                \r"
     ]
    },
    {
     "name": "stdout",
     "output_type": "stream",
     "text": [
      "+-------+-----+---------+--------------------+\n",
      "| app_id|label|review_id|         review_text|\n",
      "+-------+-----+---------+--------------------+\n",
      "|1294810|    0|138221999|Is it fun? With f...|\n",
      "+-------+-----+---------+--------------------+\n",
      "\n",
      "23/05/13 10:46:57 WARN RandomBlockReplicationPolicy: Expecting 1 replicas with only 0 peer/s.\n",
      "23/05/13 10:46:57 WARN BlockManager: Block input-0-1683967616800 replicated to only 0 peer(s) instead of 1 peers\n",
      "23/05/13 10:46:58 WARN RandomBlockReplicationPolicy: Expecting 1 replicas with only 0 peer/s.\n",
      "23/05/13 10:46:58 WARN BlockManager: Block input-0-1683967617800 replicated to only 0 peer(s) instead of 1 peers\n"
     ]
    },
    {
     "name": "stderr",
     "output_type": "stream",
     "text": [
      "[Stage 0:>                                                          (0 + 1) / 1]\r"
     ]
    },
    {
     "name": "stdout",
     "output_type": "stream",
     "text": [
      "23/05/13 10:47:01 WARN RandomBlockReplicationPolicy: Expecting 1 replicas with only 0 peer/s.\n",
      "23/05/13 10:47:01 WARN BlockManager: Block input-0-1683967620800 replicated to only 0 peer(s) instead of 1 peers\n"
     ]
    },
    {
     "name": "stderr",
     "output_type": "stream",
     "text": [
      "\r",
      "                                                                                \r"
     ]
    },
    {
     "name": "stdout",
     "output_type": "stream",
     "text": [
      "+-------+-----+---------+--------------------+--------------------+--------------------+--------------------+--------------------+-----------+----------+\n",
      "| app_id|label|review_id|         review_text|               words|                  cv|            features|       rawPrediction|probability|prediction|\n",
      "+-------+-----+---------+--------------------+--------------------+--------------------+--------------------+--------------------+-----------+----------+\n",
      "|1294810|    0|138221999|Is it fun? With f...|[is, it, fun?, wi...|(13759,[0,1,2,3,4...|(13759,[0,1,2,3,4...|[40480.5039914380...|  [1.0,0.0]|       0.0|\n",
      "+-------+-----+---------+--------------------+--------------------+--------------------+--------------------+--------------------+-----------+----------+\n",
      "\n",
      "========= 2023-05-13 10:47:00 =========\n",
      "+-------+-----+---------+--------------------+\n",
      "| app_id|label|review_id|         review_text|\n",
      "+-------+-----+---------+--------------------+\n",
      "|1669000|    0|138222003|This game is suff...|\n",
      "|1669000|    0|138221838|the game looks an...|\n",
      "|1669000|    1|138221499|The game is simpl...|\n",
      "|1669000|    1|138221422|She took the kids...|\n",
      "|1669000|    0|138220860|Good game but bug...|\n",
      "+-------+-----+---------+--------------------+\n",
      "\n",
      "+-------+-----+---------+--------------------+--------------------+--------------------+--------------------+--------------------+-----------+----------+\n",
      "| app_id|label|review_id|         review_text|               words|                  cv|            features|       rawPrediction|probability|prediction|\n",
      "+-------+-----+---------+--------------------+--------------------+--------------------+--------------------+--------------------+-----------+----------+\n",
      "|1669000|    0|138222003|This game is suff...|[this, game, is, ...|(13759,[0,1,2,3,7...|(13759,[0,1,2,3,7...|[81035.3202613022...|  [1.0,0.0]|       0.0|\n",
      "|1669000|    0|138221838|the game looks an...|[the, game, looks...|(13759,[0,1,2,8,1...|(13759,[0,1,2,8,1...|[11827.6547197081...|  [1.0,0.0]|       0.0|\n",
      "|1669000|    1|138221499|The game is simpl...|[the, game, is, s...|(13759,[0,1,3,7,8...|(13759,[0,1,3,7,8...|[28715.4259773264...|  [1.0,0.0]|       0.0|\n",
      "|1669000|    1|138221422|She took the kids...|[she, took, the, ...|(13759,[0,5,6,72,...|(13759,[0,5,6,72,...|[-4472.0099377203...|  [0.0,1.0]|       1.0|\n",
      "|1669000|    0|138220860|Good game but bug...|[good, game, but,...|(13759,[0,1,2,3,4...|(13759,[0,1,2,3,4...|[17981.0691715547...|  [1.0,0.0]|       0.0|\n",
      "+-------+-----+---------+--------------------+--------------------+--------------------+--------------------+--------------------+-----------+----------+\n",
      "\n"
     ]
    },
    {
     "name": "stderr",
     "output_type": "stream",
     "text": [
      "\r",
      "[Stage 0:>                                                          (0 + 1) / 1]\r"
     ]
    },
    {
     "name": "stdout",
     "output_type": "stream",
     "text": [
      "23/05/13 10:47:04 WARN RandomBlockReplicationPolicy: Expecting 1 replicas with only 0 peer/s.\n",
      "23/05/13 10:47:04 WARN BlockManager: Block input-0-1683967623800 replicated to only 0 peer(s) instead of 1 peers\n",
      "23/05/13 10:47:05 WARN RandomBlockReplicationPolicy: Expecting 1 replicas with only 0 peer/s.\n",
      "23/05/13 10:47:05 WARN BlockManager: Block input-0-1683967624800 replicated to only 0 peer(s) instead of 1 peers\n",
      "23/05/13 10:47:10 WARN RandomBlockReplicationPolicy: Expecting 1 replicas with only 0 peer/s.\n",
      "23/05/13 10:47:10 WARN BlockManager: Block input-0-1683967629800 replicated to only 0 peer(s) instead of 1 peers\n",
      "========= 2023-05-13 10:47:10 =========\n"
     ]
    },
    {
     "name": "stderr",
     "output_type": "stream",
     "text": [
      "\r",
      "                                                                                \r"
     ]
    },
    {
     "name": "stdout",
     "output_type": "stream",
     "text": [
      "+-------+-----+---------+-----------+\n",
      "| app_id|label|review_id|review_text|\n",
      "+-------+-----+---------+-----------+\n",
      "|1669000|    1|138220855|       good|\n",
      "|1669000|    1|138220678| Good game.|\n",
      "|2272420|    1|138221886|     NICE\\n|\n",
      "+-------+-----+---------+-----------+\n",
      "\n",
      "+-------+-----+---------+-----------+-------------+--------------------+--------------------+--------------------+-----------+----------+\n",
      "| app_id|label|review_id|review_text|        words|                  cv|            features|       rawPrediction|probability|prediction|\n",
      "+-------+-----+---------+-----------+-------------+--------------------+--------------------+--------------------+-----------+----------+\n",
      "|1669000|    1|138220855|       good|       [good]|  (13759,[47],[1.0])|(13759,[47],[1.97...|[-6642.5493230065...|  [0.0,1.0]|       1.0|\n",
      "|1669000|    1|138220678| Good game.|[good, game.]|(13759,[46,47],[1...|(13759,[46,47],[1...|[-7931.2193775266...|  [0.0,1.0]|       1.0|\n",
      "|2272420|    1|138221886|     NICE\\n|       [nice]| (13759,[138],[1.0])|(13759,[138],[2.9...|[-5773.4393076693...|  [0.0,1.0]|       1.0|\n",
      "+-------+-----+---------+-----------+-------------+--------------------+--------------------+--------------------+-----------+----------+\n",
      "\n"
     ]
    },
    {
     "name": "stderr",
     "output_type": "stream",
     "text": [
      "                                                                                \r"
     ]
    },
    {
     "name": "stdout",
     "output_type": "stream",
     "text": [
      "========= 2023-05-13 10:47:20 =========\n",
      "+-------+-----+---------+--------------------+\n",
      "| app_id|label|review_id|         review_text|\n",
      "+-------+-----+---------+--------------------+\n",
      "|1566200|    1|138221724|Angus McShaggy go...|\n",
      "+-------+-----+---------+--------------------+\n",
      "\n",
      "+-------+-----+---------+--------------------+--------------------+-------------+-------------+--------------------+--------------------+----------+\n",
      "| app_id|label|review_id|         review_text|               words|           cv|     features|       rawPrediction|         probability|prediction|\n",
      "+-------+-----+---------+--------------------+--------------------+-------------+-------------+--------------------+--------------------+----------+\n",
      "|1566200|    1|138221724|Angus McShaggy go...|[angus, mcshaggy,...|(13759,[],[])|(13759,[],[])|[-2.6034242286123...|[0.06891836768765...|       1.0|\n",
      "+-------+-----+---------+--------------------+--------------------+-------------+-------------+--------------------+--------------------+----------+\n",
      "\n"
     ]
    },
    {
     "name": "stderr",
     "output_type": "stream",
     "text": [
      "\r",
      "[Stage 0:>                                                          (0 + 1) / 1]\r"
     ]
    },
    {
     "name": "stdout",
     "output_type": "stream",
     "text": [
      "23/05/13 10:47:28 WARN RandomBlockReplicationPolicy: Expecting 1 replicas with only 0 peer/s.\n",
      "23/05/13 10:47:28 WARN BlockManager: Block input-0-1683967647800 replicated to only 0 peer(s) instead of 1 peers\n",
      "23/05/13 10:47:29 WARN RandomBlockReplicationPolicy: Expecting 1 replicas with only 0 peer/s.\n",
      "23/05/13 10:47:29 WARN BlockManager: Block input-0-1683967649000 replicated to only 0 peer(s) instead of 1 peers\n"
     ]
    },
    {
     "name": "stderr",
     "output_type": "stream",
     "text": [
      "\r",
      "                                                                                \r"
     ]
    },
    {
     "name": "stdout",
     "output_type": "stream",
     "text": [
      "========= 2023-05-13 10:47:30 =========\n",
      "+-------+-----+---------+--------------------+\n",
      "| app_id|label|review_id|         review_text|\n",
      "+-------+-----+---------+--------------------+\n",
      "|1494420|    1|138222150|Has potential, pr...|\n",
      "|1494420|    1|138221957|Buggy like any Ex...|\n",
      "+-------+-----+---------+--------------------+\n",
      "\n",
      "+-------+-----+---------+--------------------+--------------------+--------------------+--------------------+--------------------+-----------+----------+\n",
      "| app_id|label|review_id|         review_text|               words|                  cv|            features|       rawPrediction|probability|prediction|\n",
      "+-------+-----+---------+--------------------+--------------------+--------------------+--------------------+--------------------+-----------+----------+\n",
      "|1494420|    1|138222150|Has potential, pr...|[has, potential,,...|(13759,[3,6,13,14...|(13759,[3,6,13,14...|[-13885.658325238...|  [0.0,1.0]|       1.0|\n",
      "|1494420|    1|138221957|Buggy like any Ex...|[buggy, like, any...|(13759,[1,14,19,3...|(13759,[1,14,19,3...|[-2192.8716939386...|  [0.0,1.0]|       1.0|\n",
      "+-------+-----+---------+--------------------+--------------------+--------------------+--------------------+--------------------+-----------+----------+\n",
      "\n"
     ]
    },
    {
     "name": "stderr",
     "output_type": "stream",
     "text": [
      "\r",
      "[Stage 0:>                                                          (0 + 1) / 1]\r"
     ]
    },
    {
     "name": "stdout",
     "output_type": "stream",
     "text": [
      "23/05/13 10:47:33 WARN RandomBlockReplicationPolicy: Expecting 1 replicas with only 0 peer/s.\n",
      "23/05/13 10:47:33 WARN BlockManager: Block input-0-1683967653000 replicated to only 0 peer(s) instead of 1 peers\n",
      "23/05/13 10:47:36 WARN RandomBlockReplicationPolicy: Expecting 1 replicas with only 0 peer/s.\n",
      "23/05/13 10:47:36 WARN BlockManager: Block input-0-1683967655800 replicated to only 0 peer(s) instead of 1 peers\n",
      "23/05/13 10:47:37 WARN RandomBlockReplicationPolicy: Expecting 1 replicas with only 0 peer/s.\n",
      "23/05/13 10:47:37 WARN BlockManager: Block input-0-1683967656800 replicated to only 0 peer(s) instead of 1 peers\n",
      "23/05/13 10:47:38 WARN RandomBlockReplicationPolicy: Expecting 1 replicas with only 0 peer/s.\n",
      "23/05/13 10:47:38 WARN BlockManager: Block input-0-1683967657800 replicated to only 0 peer(s) instead of 1 peers\n"
     ]
    },
    {
     "name": "stderr",
     "output_type": "stream",
     "text": [
      "\r",
      "                                                                                \r"
     ]
    },
    {
     "name": "stdout",
     "output_type": "stream",
     "text": [
      "========= 2023-05-13 10:47:40 =========\n",
      "+-------+-----+---------+--------------------+\n",
      "| app_id|label|review_id|         review_text|\n",
      "+-------+-----+---------+--------------------+\n",
      "|1494420|    1|138221867|This game IS in a...|\n",
      "|2395360|    1|138221847|     This game slaps|\n",
      "|2311190|    1|138220939|yes i like that y...|\n",
      "|1742020|    1|138222265| need more character|\n",
      "+-------+-----+---------+--------------------+\n",
      "\n",
      "+-------+-----+---------+--------------------+--------------------+--------------------+--------------------+--------------------+--------------------+----------+\n",
      "| app_id|label|review_id|         review_text|               words|                  cv|            features|       rawPrediction|         probability|prediction|\n",
      "+-------+-----+---------+--------------------+--------------------+--------------------+--------------------+--------------------+--------------------+----------+\n",
      "|1494420|    1|138221867|This game IS in a...|[this, game, is, ...|(13759,[0,1,2,3,6...|(13759,[0,1,2,3,6...|[-7033.2100548900...|           [0.0,1.0]|       1.0|\n",
      "|2395360|    1|138221847|     This game slaps| [this, game, slaps]|(13759,[8,10,4440...|(13759,[8,10,4440...|[-586.88266320293...|[1.31855377444743...|       1.0|\n",
      "|2311190|    1|138220939|yes i like that y...|[yes, i, like, th...|(13759,[5,9,15,19...|(13759,[5,9,15,19...|[-5721.9588643729...|           [0.0,1.0]|       1.0|\n",
      "|1742020|    1|138222265| need more character|[need, more, char...|(13759,[30,134,16...|(13759,[30,134,16...|[-6696.2365899813...|           [0.0,1.0]|       1.0|\n",
      "+-------+-----+---------+--------------------+--------------------+--------------------+--------------------+--------------------+--------------------+----------+\n",
      "\n"
     ]
    },
    {
     "name": "stderr",
     "output_type": "stream",
     "text": [
      "\r",
      "[Stage 0:>                                                          (0 + 1) / 1]\r"
     ]
    },
    {
     "name": "stdout",
     "output_type": "stream",
     "text": [
      "23/05/13 10:47:42 WARN RandomBlockReplicationPolicy: Expecting 1 replicas with only 0 peer/s.\n",
      "23/05/13 10:47:42 WARN BlockManager: Block input-0-1683967662000 replicated to only 0 peer(s) instead of 1 peers\n",
      "23/05/13 10:47:43 WARN RandomBlockReplicationPolicy: Expecting 1 replicas with only 0 peer/s.\n",
      "23/05/13 10:47:43 WARN BlockManager: Block input-0-1683967663000 replicated to only 0 peer(s) instead of 1 peers\n",
      "23/05/13 10:47:47 WARN RandomBlockReplicationPolicy: Expecting 1 replicas with only 0 peer/s.\n",
      "23/05/13 10:47:47 WARN BlockManager: Block input-0-1683967667000 replicated to only 0 peer(s) instead of 1 peers\n"
     ]
    },
    {
     "name": "stderr",
     "output_type": "stream",
     "text": [
      "\r",
      "                                                                                \r"
     ]
    },
    {
     "name": "stdout",
     "output_type": "stream",
     "text": [
      "========= 2023-05-13 10:47:50 =========\n",
      "+-------+-----+---------+--------------------+\n",
      "| app_id|label|review_id|         review_text|\n",
      "+-------+-----+---------+--------------------+\n",
      "|1742020|    1|138221320|           very good|\n",
      "|1742020|    1|138220676|  Good fighting game|\n",
      "|1940340|    1|138222632|Amazing new game!...|\n",
      "+-------+-----+---------+--------------------+\n",
      "\n",
      "+-------+-----+---------+--------------------+--------------------+--------------------+--------------------+--------------------+-----------+----------+\n",
      "| app_id|label|review_id|         review_text|               words|                  cv|            features|       rawPrediction|probability|prediction|\n",
      "+-------+-----+---------+--------------------+--------------------+--------------------+--------------------+--------------------+-----------+----------+\n",
      "|1742020|    1|138221320|           very good|        [very, good]|(13759,[32,47],[1...|(13759,[32,47],[1...|[-7497.3934713340...|  [0.0,1.0]|       1.0|\n",
      "|1742020|    1|138220676|  Good fighting game|[good, fighting, ...|(13759,[8,47,728]...|(13759,[8,47,728]...|[-7446.5013715751...|  [0.0,1.0]|       1.0|\n",
      "|1940340|    1|138222632|Amazing new game!...|[amazing, new, ga...|(13759,[0,1,3,5,8...|(13759,[0,1,3,5,8...|[-16668.939115499...|  [0.0,1.0]|       1.0|\n",
      "+-------+-----+---------+--------------------+--------------------+--------------------+--------------------+--------------------+-----------+----------+\n",
      "\n"
     ]
    },
    {
     "name": "stderr",
     "output_type": "stream",
     "text": [
      "\r",
      "[Stage 0:>                                                          (0 + 1) / 1]\r"
     ]
    },
    {
     "name": "stdout",
     "output_type": "stream",
     "text": [
      "23/05/13 10:47:52 WARN RandomBlockReplicationPolicy: Expecting 1 replicas with only 0 peer/s.\n",
      "23/05/13 10:47:52 WARN BlockManager: Block input-0-1683967671800 replicated to only 0 peer(s) instead of 1 peers\n"
     ]
    },
    {
     "name": "stderr",
     "output_type": "stream",
     "text": [
      "\r",
      "                                                                                \r"
     ]
    },
    {
     "name": "stdout",
     "output_type": "stream",
     "text": [
      "========= 2023-05-13 10:48:00 =========\n",
      "+-------+-----+---------+--------------------+\n",
      "| app_id|label|review_id|         review_text|\n",
      "+-------+-----+---------+--------------------+\n",
      "|1940340|    1|138221647|Challenging, stra...|\n",
      "+-------+-----+---------+--------------------+\n",
      "\n",
      "+-------+-----+---------+--------------------+--------------------+--------------------+--------------------+--------------------+-----------+----------+\n",
      "| app_id|label|review_id|         review_text|               words|                  cv|            features|       rawPrediction|probability|prediction|\n",
      "+-------+-----+---------+--------------------+--------------------+--------------------+--------------------+--------------------+-----------+----------+\n",
      "|1940340|    1|138221647|Challenging, stra...|[challenging,, st...|(13759,[0,1,3,5,1...|(13759,[0,1,3,5,1...|[-852.08752145407...|  [0.0,1.0]|       1.0|\n",
      "+-------+-----+---------+--------------------+--------------------+--------------------+--------------------+--------------------+-----------+----------+\n",
      "\n"
     ]
    },
    {
     "name": "stderr",
     "output_type": "stream",
     "text": [
      "\r",
      "[Stage 0:>                                                          (0 + 1) / 1]\r"
     ]
    },
    {
     "name": "stdout",
     "output_type": "stream",
     "text": [
      "23/05/13 10:48:08 WARN RandomBlockReplicationPolicy: Expecting 1 replicas with only 0 peer/s.\n",
      "23/05/13 10:48:08 WARN BlockManager: Block input-0-1683967688000 replicated to only 0 peer(s) instead of 1 peers\n"
     ]
    },
    {
     "name": "stderr",
     "output_type": "stream",
     "text": [
      "\r",
      "                                                                                \r"
     ]
    },
    {
     "name": "stdout",
     "output_type": "stream",
     "text": [
      "========= 2023-05-13 10:48:10 =========\n",
      "+-------+-----+---------+--------------------+\n",
      "| app_id|label|review_id|         review_text|\n",
      "+-------+-----+---------+--------------------+\n",
      "|1547670|    1|138221836|Has some of the u...|\n",
      "+-------+-----+---------+--------------------+\n",
      "\n",
      "+-------+-----+---------+--------------------+--------------------+--------------------+--------------------+--------------------+-----------+----------+\n",
      "| app_id|label|review_id|         review_text|               words|                  cv|            features|       rawPrediction|probability|prediction|\n",
      "+-------+-----+---------+--------------------+--------------------+--------------------+--------------------+--------------------+-----------+----------+\n",
      "|1547670|    1|138221836|Has some of the u...|[has, some, of, t...|(13759,[0,1,2,3,5...|(13759,[0,1,2,3,5...|[-35074.848841013...|  [0.0,1.0]|       1.0|\n",
      "+-------+-----+---------+--------------------+--------------------+--------------------+--------------------+--------------------+-----------+----------+\n",
      "\n"
     ]
    },
    {
     "name": "stderr",
     "output_type": "stream",
     "text": [
      "\r",
      "[Stage 0:>                                                          (0 + 1) / 1]\r"
     ]
    },
    {
     "name": "stdout",
     "output_type": "stream",
     "text": [
      "23/05/13 10:48:11 WARN RandomBlockReplicationPolicy: Expecting 1 replicas with only 0 peer/s.\n",
      "23/05/13 10:48:11 WARN BlockManager: Block input-0-1683967691000 replicated to only 0 peer(s) instead of 1 peers\n",
      "23/05/13 10:48:15 WARN RandomBlockReplicationPolicy: Expecting 1 replicas with only 0 peer/s.\n",
      "23/05/13 10:48:15 WARN BlockManager: Block input-0-1683967695000 replicated to only 0 peer(s) instead of 1 peers\n"
     ]
    },
    {
     "name": "stderr",
     "output_type": "stream",
     "text": [
      "\r",
      "                                                                                \r"
     ]
    },
    {
     "name": "stdout",
     "output_type": "stream",
     "text": [
      "========= 2023-05-13 10:48:20 =========\n",
      "23/05/13 10:48:20 WARN RandomBlockReplicationPolicy: Expecting 1 replicas with only 0 peer/s.\n",
      "23/05/13 10:48:20 WARN BlockManager: Block input-0-1683967700000 replicated to only 0 peer(s) instead of 1 peers\n",
      "+-------+-----+---------+--------------------+\n",
      "| app_id|label|review_id|         review_text|\n",
      "+-------+-----+---------+--------------------+\n",
      "|1159690|    0|138221889|Great idea, good ...|\n",
      "|2229260|    0|138221388|5. \"Termination o...|\n",
      "+-------+-----+---------+--------------------+\n",
      "\n",
      "+-------+-----+---------+--------------------+--------------------+--------------------+--------------------+--------------------+-----------+----------+\n",
      "| app_id|label|review_id|         review_text|               words|                  cv|            features|       rawPrediction|probability|prediction|\n",
      "+-------+-----+---------+--------------------+--------------------+--------------------+--------------------+--------------------+-----------+----------+\n",
      "|1159690|    0|138221889|Great idea, good ...|[great, idea,, go...|(13759,[1,3,5,6,8...|(13759,[1,3,5,6,8...|[-4932.1431433266...|  [0.0,1.0]|       1.0|\n",
      "|2229260|    0|138221388|5. \"Termination o...|[5., \"termination...|(13759,[0,1,2,4,6...|(13759,[0,1,2,4,6...|[15724.555517687,...|  [1.0,0.0]|       0.0|\n",
      "+-------+-----+---------+--------------------+--------------------+--------------------+--------------------+--------------------+-----------+----------+\n",
      "\n"
     ]
    },
    {
     "name": "stderr",
     "output_type": "stream",
     "text": [
      "\r",
      "[Stage 0:>                                                          (0 + 1) / 1]\r"
     ]
    },
    {
     "name": "stdout",
     "output_type": "stream",
     "text": [
      "23/05/13 10:48:22 WARN RandomBlockReplicationPolicy: Expecting 1 replicas with only 0 peer/s.\n",
      "23/05/13 10:48:22 WARN BlockManager: Block input-0-1683967702000 replicated to only 0 peer(s) instead of 1 peers\n",
      "23/05/13 10:48:25 WARN RandomBlockReplicationPolicy: Expecting 1 replicas with only 0 peer/s.\n",
      "23/05/13 10:48:25 WARN BlockManager: Block input-0-1683967705000 replicated to only 0 peer(s) instead of 1 peers\n",
      "23/05/13 10:48:28 WARN RandomBlockReplicationPolicy: Expecting 1 replicas with only 0 peer/s.\n",
      "23/05/13 10:48:28 WARN BlockManager: Block input-0-1683967708000 replicated to only 0 peer(s) instead of 1 peers\n",
      "23/05/13 10:48:29 WARN RandomBlockReplicationPolicy: Expecting 1 replicas with only 0 peer/s.\n",
      "23/05/13 10:48:29 WARN BlockManager: Block input-0-1683967709000 replicated to only 0 peer(s) instead of 1 peers\n"
     ]
    },
    {
     "name": "stderr",
     "output_type": "stream",
     "text": [
      "\r",
      "                                                                                \r"
     ]
    },
    {
     "name": "stdout",
     "output_type": "stream",
     "text": [
      "========= 2023-05-13 10:48:30 =========\n",
      "+-------+-----+---------+--------------------+\n",
      "| app_id|label|review_id|         review_text|\n",
      "+-------+-----+---------+--------------------+\n",
      "|1230170|    1|138222536|school starter pa...|\n",
      "|1230170|    1|138221513|              I like|\n",
      "|1230170|    1|138221285|Not bad. The game...|\n",
      "| 758690|    1|138221515|Yes it has bugs, ...|\n",
      "| 758690|    1|138221029|Came out in early...|\n",
      "+-------+-----+---------+--------------------+\n",
      "\n",
      "+-------+-----+---------+--------------------+--------------------+--------------------+--------------------+--------------------+--------------------+----------+\n",
      "| app_id|label|review_id|         review_text|               words|                  cv|            features|       rawPrediction|         probability|prediction|\n",
      "+-------+-----+---------+--------------------+--------------------+--------------------+--------------------+--------------------+--------------------+----------+\n",
      "|1230170|    1|138222536|school starter pa...|[school, starter,...|(13759,[12,1488,2...|(13759,[12,1488,2...|[-508.16151437598...|[2.03356655619344...|       1.0|\n",
      "|1230170|    1|138221513|              I like|           [i, like]|(13759,[5,19],[1....|(13759,[5,19],[0....|[-419.30106379781...|[7.94075389781437...|       1.0|\n",
      "|1230170|    1|138221285|Not bad. The game...|[not, bad., the, ...|(13759,[0,1,2,3,5...|(13759,[0,1,2,3,5...|[-12117.342827894...|           [0.0,1.0]|       1.0|\n",
      "| 758690|    1|138221515|Yes it has bugs, ...|[yes, it, has, bu...|(13759,[1,2,3,4,7...|(13759,[1,2,3,4,7...|[-10016.268863564...|           [0.0,1.0]|       1.0|\n",
      "| 758690|    1|138221029|Came out in early...|[came, out, in, e...|(13759,[0,1,3,4,7...|(13759,[0,1,3,4,7...|[2115.00872879145...|           [1.0,0.0]|       0.0|\n",
      "+-------+-----+---------+--------------------+--------------------+--------------------+--------------------+--------------------+--------------------+----------+\n",
      "\n"
     ]
    },
    {
     "name": "stderr",
     "output_type": "stream",
     "text": [
      "\r",
      "[Stage 0:>                                                          (0 + 1) / 1]\r"
     ]
    },
    {
     "name": "stdout",
     "output_type": "stream",
     "text": [
      "23/05/13 10:48:33 WARN RandomBlockReplicationPolicy: Expecting 1 replicas with only 0 peer/s.\n",
      "23/05/13 10:48:33 WARN BlockManager: Block input-0-1683967713000 replicated to only 0 peer(s) instead of 1 peers\n",
      "23/05/13 10:48:35 WARN RandomBlockReplicationPolicy: Expecting 1 replicas with only 0 peer/s.\n",
      "23/05/13 10:48:35 WARN BlockManager: Block input-0-1683967715000 replicated to only 0 peer(s) instead of 1 peers\n"
     ]
    },
    {
     "name": "stderr",
     "output_type": "stream",
     "text": [
      "\r",
      "                                                                                \r"
     ]
    },
    {
     "name": "stdout",
     "output_type": "stream",
     "text": [
      "========= 2023-05-13 10:48:40 =========\n",
      "+------+-----+---------+--------------------+\n",
      "|app_id|label|review_id|         review_text|\n",
      "+------+-----+---------+--------------------+\n",
      "|669330|    1|138222463|3D chess meets wa...|\n",
      "|669330|    1|138221527|  TFT + clash royale|\n",
      "+------+-----+---------+--------------------+\n",
      "\n",
      "+------+-----+---------+--------------------+--------------------+--------------------+--------------------+--------------------+-----------+----------+\n",
      "|app_id|label|review_id|         review_text|               words|                  cv|            features|       rawPrediction|probability|prediction|\n",
      "+------+-----+---------+--------------------+--------------------+--------------------+--------------------+--------------------+-----------+----------+\n",
      "|669330|    1|138222463|3D chess meets wa...|[3d, chess, meets...|(13759,[67,538,55...|(13759,[67,538,55...|[-10024.894949836...|  [0.0,1.0]|       1.0|\n",
      "|669330|    1|138221527|  TFT + clash royale|[tft, +, clash, r...|(13759,[207,8953,...|(13759,[207,8953,...|[989.649862574651...|  [1.0,0.0]|       0.0|\n",
      "+------+-----+---------+--------------------+--------------------+--------------------+--------------------+--------------------+-----------+----------+\n",
      "\n"
     ]
    },
    {
     "name": "stderr",
     "output_type": "stream",
     "text": [
      "\r",
      "[Stage 0:>                                                          (0 + 1) / 1]\r"
     ]
    },
    {
     "name": "stdout",
     "output_type": "stream",
     "text": [
      "23/05/13 10:48:52 WARN RandomBlockReplicationPolicy: Expecting 1 replicas with only 0 peer/s.\n",
      "23/05/13 10:48:52 WARN BlockManager: Block input-0-1683967732200 replicated to only 0 peer(s) instead of 1 peers\n",
      "23/05/13 10:48:57 WARN RandomBlockReplicationPolicy: Expecting 1 replicas with only 0 peer/s.\n",
      "23/05/13 10:48:57 WARN BlockManager: Block input-0-1683967737200 replicated to only 0 peer(s) instead of 1 peers\n"
     ]
    },
    {
     "name": "stderr",
     "output_type": "stream",
     "text": [
      "\r",
      "                                                                                \r"
     ]
    },
    {
     "name": "stdout",
     "output_type": "stream",
     "text": [
      "========= 2023-05-13 10:49:00 =========\n",
      "+-------+-----+---------+--------------------+\n",
      "| app_id|label|review_id|         review_text|\n",
      "+-------+-----+---------+--------------------+\n",
      "|2369390|    1|138222699|I knew in the end...|\n",
      "|2369390|    0|138222356|Got no flow to it...|\n",
      "+-------+-----+---------+--------------------+\n",
      "\n",
      "+-------+-----+---------+--------------------+--------------------+--------------------+--------------------+--------------------+-----------+----------+\n",
      "| app_id|label|review_id|         review_text|               words|                  cv|            features|       rawPrediction|probability|prediction|\n",
      "+-------+-----+---------+--------------------+--------------------+--------------------+--------------------+--------------------+-----------+----------+\n",
      "|2369390|    1|138222699|I knew in the end...|[i, knew, in, the...|(13759,[0,2,5,12,...|(13759,[0,2,5,12,...|[402.402255702151...|  [1.0,0.0]|       0.0|\n",
      "|2369390|    0|138222356|Got no flow to it...|[got, no, flow, t...|(13759,[2,6,46,57...|(13759,[2,6,46,57...|[13644.6980907749...|  [1.0,0.0]|       0.0|\n",
      "+-------+-----+---------+--------------------+--------------------+--------------------+--------------------+--------------------+-----------+----------+\n",
      "\n"
     ]
    },
    {
     "name": "stderr",
     "output_type": "stream",
     "text": [
      "\r",
      "[Stage 0:>                                                          (0 + 1) / 1]\r"
     ]
    },
    {
     "name": "stdout",
     "output_type": "stream",
     "text": [
      "23/05/13 10:49:01 WARN RandomBlockReplicationPolicy: Expecting 1 replicas with only 0 peer/s.\n",
      "23/05/13 10:49:01 WARN BlockManager: Block input-0-1683967741200 replicated to only 0 peer(s) instead of 1 peers\n",
      "23/05/13 10:49:02 WARN RandomBlockReplicationPolicy: Expecting 1 replicas with only 0 peer/s.\n",
      "23/05/13 10:49:02 WARN BlockManager: Block input-0-1683967742200 replicated to only 0 peer(s) instead of 1 peers\n",
      "23/05/13 10:49:07 WARN RandomBlockReplicationPolicy: Expecting 1 replicas with only 0 peer/s.\n",
      "23/05/13 10:49:07 WARN BlockManager: Block input-0-1683967747200 replicated to only 0 peer(s) instead of 1 peers\n"
     ]
    },
    {
     "name": "stderr",
     "output_type": "stream",
     "text": [
      "\r",
      "                                                                                \r"
     ]
    },
    {
     "name": "stdout",
     "output_type": "stream",
     "text": [
      "========= 2023-05-13 10:49:10 =========\n",
      "+-------+-----+---------+--------------------+\n",
      "| app_id|label|review_id|         review_text|\n",
      "+-------+-----+---------+--------------------+\n",
      "|2369390|    0|138221738|I always got FPS ...|\n",
      "|2369390|    0|138221590|cut scene after c...|\n",
      "|2369390|    0|138221205|Game sucks. Not e...|\n",
      "+-------+-----+---------+--------------------+\n",
      "\n",
      "+-------+-----+---------+--------------------+--------------------+--------------------+--------------------+--------------------+-----------+----------+\n",
      "| app_id|label|review_id|         review_text|               words|                  cv|            features|       rawPrediction|probability|prediction|\n",
      "+-------+-----+---------+--------------------+--------------------+--------------------+--------------------+--------------------+-----------+----------+\n",
      "|2369390|    0|138221738|I always got FPS ...|[i, always, got, ...|(13759,[0,1,2,5,8...|(13759,[0,1,2,5,8...|[-20092.903542510...|  [0.0,1.0]|       1.0|\n",
      "|2369390|    0|138221590|cut scene after c...|[cut, scene, afte...|(13759,[91,112,82...|(13759,[91,112,82...|[11187.0392567574...|  [1.0,0.0]|       0.0|\n",
      "|2369390|    0|138221205|Game sucks. Not e...|[game, sucks., no...|(13759,[8,13,18,2...|(13759,[8,13,18,2...|[6778.08976871882...|  [1.0,0.0]|       0.0|\n",
      "+-------+-----+---------+--------------------+--------------------+--------------------+--------------------+--------------------+-----------+----------+\n",
      "\n"
     ]
    },
    {
     "name": "stderr",
     "output_type": "stream",
     "text": [
      "\r",
      "[Stage 0:>                                                          (0 + 1) / 1]\r"
     ]
    },
    {
     "name": "stdout",
     "output_type": "stream",
     "text": [
      "23/05/13 10:49:12 WARN RandomBlockReplicationPolicy: Expecting 1 replicas with only 0 peer/s.\n",
      "23/05/13 10:49:12 WARN BlockManager: Block input-0-1683967752200 replicated to only 0 peer(s) instead of 1 peers\n",
      "23/05/13 10:49:15 WARN RandomBlockReplicationPolicy: Expecting 1 replicas with only 0 peer/s.\n",
      "23/05/13 10:49:15 WARN BlockManager: Block input-0-1683967755200 replicated to only 0 peer(s) instead of 1 peers\n",
      "23/05/13 10:49:19 WARN RandomBlockReplicationPolicy: Expecting 1 replicas with only 0 peer/s.\n",
      "23/05/13 10:49:19 WARN BlockManager: Block input-0-1683967759200 replicated to only 0 peer(s) instead of 1 peers\n"
     ]
    },
    {
     "name": "stderr",
     "output_type": "stream",
     "text": [
      "\r",
      "                                                                                \r"
     ]
    },
    {
     "name": "stdout",
     "output_type": "stream",
     "text": [
      "========= 2023-05-13 10:49:20 =========\n",
      "+-------+-----+---------+--------------------+\n",
      "| app_id|label|review_id|         review_text|\n",
      "+-------+-----+---------+--------------------+\n",
      "|2369390|    1|138221003|Fun game. Terribl...|\n",
      "|2349830|    1|138222191|its a fun game to...|\n",
      "|1559600|    1|138221793|I played the demo...|\n",
      "+-------+-----+---------+--------------------+\n",
      "\n",
      "+-------+-----+---------+--------------------+--------------------+--------------------+--------------------+--------------------+-----------+----------+\n",
      "| app_id|label|review_id|         review_text|               words|                  cv|            features|       rawPrediction|probability|prediction|\n",
      "+-------+-----+---------+--------------------+--------------------+--------------------+--------------------+--------------------+-----------+----------+\n",
      "|2369390|    1|138221003|Fun game. Terribl...|[fun, game., terr...|(13759,[3,9,20,36...|(13759,[3,9,20,36...|[33249.4211590750...|  [1.0,0.0]|       0.0|\n",
      "|2349830|    1|138222191|its a fun game to...|[its, a, fun, gam...|(13759,[0,2,3,5,6...|(13759,[0,2,3,5,6...|[-14484.226868756...|  [0.0,1.0]|       1.0|\n",
      "|1559600|    1|138221793|I played the demo...|[i, played, the, ...|(13759,[0,1,2,3,5...|(13759,[0,1,2,3,5...|[-35117.643287133...|  [0.0,1.0]|       1.0|\n",
      "+-------+-----+---------+--------------------+--------------------+--------------------+--------------------+--------------------+-----------+----------+\n",
      "\n"
     ]
    },
    {
     "name": "stderr",
     "output_type": "stream",
     "text": [
      "[Stage 0:>                                                          (0 + 1) / 1]\r"
     ]
    }
   ],
   "source": [
    "scc_t.stop()"
   ]
  }
 ],
 "metadata": {
  "kernelspec": {
   "display_name": "Python 3 (ipykernel)",
   "language": "python",
   "name": "python3"
  },
  "language_info": {
   "codemirror_mode": {
    "name": "ipython",
    "version": 3
   },
   "file_extension": ".py",
   "mimetype": "text/x-python",
   "name": "python",
   "nbconvert_exporter": "python",
   "pygments_lexer": "ipython3",
   "version": "3.9.12"
  }
 },
 "nbformat": 4,
 "nbformat_minor": 5
}
